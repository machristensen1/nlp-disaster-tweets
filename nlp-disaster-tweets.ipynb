{
 "cells": [
  {
   "cell_type": "markdown",
   "id": "43dc5054",
   "metadata": {},
   "source": [
    "# NLP Disaster Tweets Classification (LSTM + Doc2Vec)\n"
   ]
  },
  {
   "cell_type": "code",
   "execution_count": 1,
   "id": "e1feab19",
   "metadata": {},
   "outputs": [
    {
     "name": "stderr",
     "output_type": "stream",
     "text": [
      "[nltk_data] Downloading package wordnet to C:\\Users\\Michael\n",
      "[nltk_data]     Christensen\\AppData\\Roaming\\nltk_data...\n",
      "[nltk_data]   Package wordnet is already up-to-date!\n",
      "[nltk_data] Downloading package stopwords to C:\\Users\\Michael\n",
      "[nltk_data]     Christensen\\AppData\\Roaming\\nltk_data...\n",
      "[nltk_data]   Package stopwords is already up-to-date!\n"
     ]
    }
   ],
   "source": [
    "import numpy as np\n",
    "import pandas as pd \n",
    "import matplotlib.pyplot as plt\n",
    "import seaborn as sns\n",
    "\n",
    "import string\n",
    "import re\n",
    "\n",
    "import nltk\n",
    "from keras.preprocessing.text import Tokenizer\n",
    "from keras_preprocessing.sequence import pad_sequences\n",
    "import gensim\n",
    "from gensim.models import Doc2Vec\n",
    "from gensim.models.doc2vec import TaggedDocument\n",
    "\n",
    "from nltk.stem.wordnet import WordNetLemmatizer\n",
    "nltk.download('wordnet')\n",
    "from nltk.corpus import stopwords\n",
    "nltk.download('stopwords')\n",
    "\n",
    "#Keras\n",
    "import keras\n",
    "from keras import layers\n",
    "\n",
    "from sklearn.model_selection import train_test_split\n",
    "\n",
    "import itertools"
   ]
  },
  {
   "cell_type": "markdown",
   "id": "2ff3087d",
   "metadata": {},
   "source": [
    "# Table of Contents\n",
    "1. [Introduction](#introduction)\n",
    "2. [Exploratory Data Analaysis](#paragraph1)\n",
    "3. [Model Architecture (LSTM)](#paragraph2)\n",
    "4. [Results & Analysis](#paragraph3)"
   ]
  },
  {
   "cell_type": "markdown",
   "id": "d6dc9c55",
   "metadata": {},
   "source": [
    "## 1. Introduction <a name=\"introduction\"></a>\n",
    "\n",
    "GitHub link: https://github.com/machristensen1/nlp-disaster-tweets\n",
    "\n",
    "https://www.kaggle.com/competitions/nlp-getting-started\n",
    "<blockquote>\n",
    "Twitter has become an important communication channel in times of emergency.\n",
    "The ubiquitousness of smartphones enables people to announce an emergency they’re observing in real-time. Because of this, more agencies are interested in programatically monitoring Twitter (i.e. disaster relief organizations and news agencies).\n",
    "\n",
    "But, it’s not always clear whether a person’s words are actually announcing a disaster.\n",
    "</blockquote>\n",
    "\n",
    "Our goal is to be able to categorize whether or not a tweet is announcing a disaster using NLP. We will be achieving this through LSTM and Doc2Vec. The advantage of Doc2Vec is that it allows us to take each tweet in it's entirety and include important context - Word2Vec might be able to achieve a decent result, but we may run into classification issues when people use metaphorical terms such as 'ablaze' to describe a sunset, as per the example in the Kaggle competition."
   ]
  },
  {
   "cell_type": "markdown",
   "id": "727372e2",
   "metadata": {},
   "source": [
    "## 2. Exploratory Data Analysis <a name=\"paragraph1\"></a>"
   ]
  },
  {
   "cell_type": "code",
   "execution_count": 2,
   "id": "5fbc51ba",
   "metadata": {},
   "outputs": [
    {
     "data": {
      "text/html": [
       "<div>\n",
       "<style scoped>\n",
       "    .dataframe tbody tr th:only-of-type {\n",
       "        vertical-align: middle;\n",
       "    }\n",
       "\n",
       "    .dataframe tbody tr th {\n",
       "        vertical-align: top;\n",
       "    }\n",
       "\n",
       "    .dataframe thead th {\n",
       "        text-align: right;\n",
       "    }\n",
       "</style>\n",
       "<table border=\"1\" class=\"dataframe\">\n",
       "  <thead>\n",
       "    <tr style=\"text-align: right;\">\n",
       "      <th></th>\n",
       "      <th>id</th>\n",
       "      <th>keyword</th>\n",
       "      <th>location</th>\n",
       "      <th>text</th>\n",
       "      <th>target</th>\n",
       "    </tr>\n",
       "  </thead>\n",
       "  <tbody>\n",
       "    <tr>\n",
       "      <th>0</th>\n",
       "      <td>1</td>\n",
       "      <td>NaN</td>\n",
       "      <td>NaN</td>\n",
       "      <td>Our Deeds are the Reason of this #earthquake M...</td>\n",
       "      <td>1</td>\n",
       "    </tr>\n",
       "    <tr>\n",
       "      <th>1</th>\n",
       "      <td>4</td>\n",
       "      <td>NaN</td>\n",
       "      <td>NaN</td>\n",
       "      <td>Forest fire near La Ronge Sask. Canada</td>\n",
       "      <td>1</td>\n",
       "    </tr>\n",
       "    <tr>\n",
       "      <th>2</th>\n",
       "      <td>5</td>\n",
       "      <td>NaN</td>\n",
       "      <td>NaN</td>\n",
       "      <td>All residents asked to 'shelter in place' are ...</td>\n",
       "      <td>1</td>\n",
       "    </tr>\n",
       "    <tr>\n",
       "      <th>3</th>\n",
       "      <td>6</td>\n",
       "      <td>NaN</td>\n",
       "      <td>NaN</td>\n",
       "      <td>13,000 people receive #wildfires evacuation or...</td>\n",
       "      <td>1</td>\n",
       "    </tr>\n",
       "    <tr>\n",
       "      <th>4</th>\n",
       "      <td>7</td>\n",
       "      <td>NaN</td>\n",
       "      <td>NaN</td>\n",
       "      <td>Just got sent this photo from Ruby #Alaska as ...</td>\n",
       "      <td>1</td>\n",
       "    </tr>\n",
       "  </tbody>\n",
       "</table>\n",
       "</div>"
      ],
      "text/plain": [
       "   id keyword location                                               text  \\\n",
       "0   1     NaN      NaN  Our Deeds are the Reason of this #earthquake M...   \n",
       "1   4     NaN      NaN             Forest fire near La Ronge Sask. Canada   \n",
       "2   5     NaN      NaN  All residents asked to 'shelter in place' are ...   \n",
       "3   6     NaN      NaN  13,000 people receive #wildfires evacuation or...   \n",
       "4   7     NaN      NaN  Just got sent this photo from Ruby #Alaska as ...   \n",
       "\n",
       "   target  \n",
       "0       1  \n",
       "1       1  \n",
       "2       1  \n",
       "3       1  \n",
       "4       1  "
      ]
     },
     "execution_count": 2,
     "metadata": {},
     "output_type": "execute_result"
    }
   ],
   "source": [
    "df_train = pd.read_csv('train.csv')\n",
    "df_train.head()"
   ]
  },
  {
   "cell_type": "code",
   "execution_count": 3,
   "id": "6649f003",
   "metadata": {},
   "outputs": [
    {
     "data": {
      "text/html": [
       "<div>\n",
       "<style scoped>\n",
       "    .dataframe tbody tr th:only-of-type {\n",
       "        vertical-align: middle;\n",
       "    }\n",
       "\n",
       "    .dataframe tbody tr th {\n",
       "        vertical-align: top;\n",
       "    }\n",
       "\n",
       "    .dataframe thead th {\n",
       "        text-align: right;\n",
       "    }\n",
       "</style>\n",
       "<table border=\"1\" class=\"dataframe\">\n",
       "  <thead>\n",
       "    <tr style=\"text-align: right;\">\n",
       "      <th></th>\n",
       "      <th>id</th>\n",
       "      <th>keyword</th>\n",
       "      <th>location</th>\n",
       "      <th>text</th>\n",
       "    </tr>\n",
       "  </thead>\n",
       "  <tbody>\n",
       "    <tr>\n",
       "      <th>0</th>\n",
       "      <td>0</td>\n",
       "      <td>NaN</td>\n",
       "      <td>NaN</td>\n",
       "      <td>Just happened a terrible car crash</td>\n",
       "    </tr>\n",
       "    <tr>\n",
       "      <th>1</th>\n",
       "      <td>2</td>\n",
       "      <td>NaN</td>\n",
       "      <td>NaN</td>\n",
       "      <td>Heard about #earthquake is different cities, s...</td>\n",
       "    </tr>\n",
       "    <tr>\n",
       "      <th>2</th>\n",
       "      <td>3</td>\n",
       "      <td>NaN</td>\n",
       "      <td>NaN</td>\n",
       "      <td>there is a forest fire at spot pond, geese are...</td>\n",
       "    </tr>\n",
       "    <tr>\n",
       "      <th>3</th>\n",
       "      <td>9</td>\n",
       "      <td>NaN</td>\n",
       "      <td>NaN</td>\n",
       "      <td>Apocalypse lighting. #Spokane #wildfires</td>\n",
       "    </tr>\n",
       "    <tr>\n",
       "      <th>4</th>\n",
       "      <td>11</td>\n",
       "      <td>NaN</td>\n",
       "      <td>NaN</td>\n",
       "      <td>Typhoon Soudelor kills 28 in China and Taiwan</td>\n",
       "    </tr>\n",
       "  </tbody>\n",
       "</table>\n",
       "</div>"
      ],
      "text/plain": [
       "   id keyword location                                               text\n",
       "0   0     NaN      NaN                 Just happened a terrible car crash\n",
       "1   2     NaN      NaN  Heard about #earthquake is different cities, s...\n",
       "2   3     NaN      NaN  there is a forest fire at spot pond, geese are...\n",
       "3   9     NaN      NaN           Apocalypse lighting. #Spokane #wildfires\n",
       "4  11     NaN      NaN      Typhoon Soudelor kills 28 in China and Taiwan"
      ]
     },
     "execution_count": 3,
     "metadata": {},
     "output_type": "execute_result"
    }
   ],
   "source": [
    "df_test = pd.read_csv('test.csv')\n",
    "df_test.head()"
   ]
  },
  {
   "cell_type": "code",
   "execution_count": 4,
   "id": "9870836a",
   "metadata": {},
   "outputs": [
    {
     "name": "stdout",
     "output_type": "stream",
     "text": [
      "<class 'pandas.core.frame.DataFrame'>\n",
      "RangeIndex: 7613 entries, 0 to 7612\n",
      "Data columns (total 5 columns):\n",
      " #   Column    Non-Null Count  Dtype \n",
      "---  ------    --------------  ----- \n",
      " 0   id        7613 non-null   int64 \n",
      " 1   keyword   7552 non-null   object\n",
      " 2   location  5080 non-null   object\n",
      " 3   text      7613 non-null   object\n",
      " 4   target    7613 non-null   int64 \n",
      "dtypes: int64(2), object(3)\n",
      "memory usage: 297.5+ KB\n"
     ]
    }
   ],
   "source": [
    "df_train.info()"
   ]
  },
  {
   "cell_type": "code",
   "execution_count": 5,
   "id": "0caaaefa",
   "metadata": {},
   "outputs": [
    {
     "data": {
      "text/plain": [
       "count    7613.00000\n",
       "mean        0.42966\n",
       "std         0.49506\n",
       "min         0.00000\n",
       "25%         0.00000\n",
       "50%         0.00000\n",
       "75%         1.00000\n",
       "max         1.00000\n",
       "Name: target, dtype: float64"
      ]
     },
     "execution_count": 5,
     "metadata": {},
     "output_type": "execute_result"
    }
   ],
   "source": [
    "df_train['target'].describe()"
   ]
  },
  {
   "cell_type": "code",
   "execution_count": 6,
   "id": "95b2149c",
   "metadata": {},
   "outputs": [
    {
     "name": "stdout",
     "output_type": "stream",
     "text": [
      "<class 'pandas.core.frame.DataFrame'>\n",
      "RangeIndex: 3263 entries, 0 to 3262\n",
      "Data columns (total 4 columns):\n",
      " #   Column    Non-Null Count  Dtype \n",
      "---  ------    --------------  ----- \n",
      " 0   id        3263 non-null   int64 \n",
      " 1   keyword   3237 non-null   object\n",
      " 2   location  2158 non-null   object\n",
      " 3   text      3263 non-null   object\n",
      "dtypes: int64(1), object(3)\n",
      "memory usage: 102.1+ KB\n"
     ]
    }
   ],
   "source": [
    "df_test.info()"
   ]
  },
  {
   "cell_type": "code",
   "execution_count": 7,
   "id": "d7b3a696",
   "metadata": {},
   "outputs": [],
   "source": [
    "#Impute missing values\n",
    "df_train['keyword'] = df_train['keyword'].fillna('no_keyword')\n",
    "df_train['location'] = df_train['location'].fillna('no_location')\n",
    "df_test['keyword'] = df_test['keyword'].fillna('no_keyword')\n",
    "df_test['location'] = df_test['location'].fillna('no_location')"
   ]
  },
  {
   "cell_type": "code",
   "execution_count": 8,
   "id": "dc657aba",
   "metadata": {},
   "outputs": [
    {
     "data": {
      "text/html": [
       "<div>\n",
       "<style scoped>\n",
       "    .dataframe tbody tr th:only-of-type {\n",
       "        vertical-align: middle;\n",
       "    }\n",
       "\n",
       "    .dataframe tbody tr th {\n",
       "        vertical-align: top;\n",
       "    }\n",
       "\n",
       "    .dataframe thead th {\n",
       "        text-align: right;\n",
       "    }\n",
       "</style>\n",
       "<table border=\"1\" class=\"dataframe\">\n",
       "  <thead>\n",
       "    <tr style=\"text-align: right;\">\n",
       "      <th></th>\n",
       "      <th>id</th>\n",
       "      <th>keyword</th>\n",
       "      <th>location</th>\n",
       "      <th>text</th>\n",
       "      <th>target</th>\n",
       "    </tr>\n",
       "  </thead>\n",
       "  <tbody>\n",
       "    <tr>\n",
       "      <th>0</th>\n",
       "      <td>1</td>\n",
       "      <td>no_keyword</td>\n",
       "      <td>no_location</td>\n",
       "      <td>Our Deeds are the Reason of this #earthquake M...</td>\n",
       "      <td>1</td>\n",
       "    </tr>\n",
       "    <tr>\n",
       "      <th>1</th>\n",
       "      <td>4</td>\n",
       "      <td>no_keyword</td>\n",
       "      <td>no_location</td>\n",
       "      <td>Forest fire near La Ronge Sask. Canada</td>\n",
       "      <td>1</td>\n",
       "    </tr>\n",
       "    <tr>\n",
       "      <th>2</th>\n",
       "      <td>5</td>\n",
       "      <td>no_keyword</td>\n",
       "      <td>no_location</td>\n",
       "      <td>All residents asked to 'shelter in place' are ...</td>\n",
       "      <td>1</td>\n",
       "    </tr>\n",
       "    <tr>\n",
       "      <th>3</th>\n",
       "      <td>6</td>\n",
       "      <td>no_keyword</td>\n",
       "      <td>no_location</td>\n",
       "      <td>13,000 people receive #wildfires evacuation or...</td>\n",
       "      <td>1</td>\n",
       "    </tr>\n",
       "    <tr>\n",
       "      <th>4</th>\n",
       "      <td>7</td>\n",
       "      <td>no_keyword</td>\n",
       "      <td>no_location</td>\n",
       "      <td>Just got sent this photo from Ruby #Alaska as ...</td>\n",
       "      <td>1</td>\n",
       "    </tr>\n",
       "  </tbody>\n",
       "</table>\n",
       "</div>"
      ],
      "text/plain": [
       "   id     keyword     location  \\\n",
       "0   1  no_keyword  no_location   \n",
       "1   4  no_keyword  no_location   \n",
       "2   5  no_keyword  no_location   \n",
       "3   6  no_keyword  no_location   \n",
       "4   7  no_keyword  no_location   \n",
       "\n",
       "                                                text  target  \n",
       "0  Our Deeds are the Reason of this #earthquake M...       1  \n",
       "1             Forest fire near La Ronge Sask. Canada       1  \n",
       "2  All residents asked to 'shelter in place' are ...       1  \n",
       "3  13,000 people receive #wildfires evacuation or...       1  \n",
       "4  Just got sent this photo from Ruby #Alaska as ...       1  "
      ]
     },
     "execution_count": 8,
     "metadata": {},
     "output_type": "execute_result"
    }
   ],
   "source": [
    "df_train.head()"
   ]
  },
  {
   "cell_type": "markdown",
   "id": "806193cb",
   "metadata": {},
   "source": [
    "### Data Visualization\n",
    "As we can see from below, there does appear to be a difference between the distributions of word counts and unique word counts when a tweet is labeled as a disaster."
   ]
  },
  {
   "cell_type": "code",
   "execution_count": 9,
   "id": "e3272b1e",
   "metadata": {},
   "outputs": [
    {
     "data": {
      "text/plain": [
       "<seaborn.axisgrid.FacetGrid at 0x190f6325280>"
      ]
     },
     "execution_count": 9,
     "metadata": {},
     "output_type": "execute_result"
    },
    {
     "data": {
      "image/png": "[encoded data removed]",
      "text/plain": [
       "<Figure size 600x300 with 2 Axes>"
      ]
     },
     "metadata": {},
     "output_type": "display_data"
    }
   ],
   "source": [
    "#Total overall wordcount\n",
    "df_train['word_count'] = df_train['text'].str.split().map(lambda x: len(x))\n",
    "df_train['unique_word_count'] = df_train['text'].apply(lambda x: len(set(str(x).split())))\n",
    "\n",
    "g = sns.FacetGrid(df_train, col = \"target\")\n",
    "g.map(sns.histplot,\"word_count\")\n"
   ]
  },
  {
   "cell_type": "code",
   "execution_count": 10,
   "id": "220dcb04",
   "metadata": {},
   "outputs": [
    {
     "data": {
      "text/plain": [
       "<seaborn.axisgrid.FacetGrid at 0x190f45db160>"
      ]
     },
     "execution_count": 10,
     "metadata": {},
     "output_type": "execute_result"
    },
    {
     "data": {
      "image/png": "[encoded data removed]",
      "text/plain": [
       "<Figure size 600x300 with 2 Axes>"
      ]
     },
     "metadata": {},
     "output_type": "display_data"
    }
   ],
   "source": [
    "g = sns.FacetGrid(df_train, col = \"target\")\n",
    "g.map(sns.histplot,\"unique_word_count\")"
   ]
  },
  {
   "cell_type": "code",
   "execution_count": 11,
   "id": "a7527f90",
   "metadata": {},
   "outputs": [
    {
     "data": {
      "text/plain": [
       "<Axes: xlabel='word_count', ylabel='Count'>"
      ]
     },
     "execution_count": 11,
     "metadata": {},
     "output_type": "execute_result"
    },
    {
     "data": {
      "image/png": "[encoded data removed]",
      "text/plain": [
       "<Figure size 640x480 with 1 Axes>"
      ]
     },
     "metadata": {},
     "output_type": "display_data"
    }
   ],
   "source": [
    "df_test['word_count'] = df_test['text'].str.split().map(lambda x: len(x))\n",
    "df_test['unique_word_count'] = df_test['text'].apply(lambda x: len(set(str(x).split())))\n",
    "\n",
    "sns.histplot(df_test['word_count'])\n"
   ]
  },
  {
   "cell_type": "code",
   "execution_count": 12,
   "id": "bcd3d042",
   "metadata": {},
   "outputs": [
    {
     "data": {
      "text/plain": [
       "<Axes: xlabel='unique_word_count', ylabel='Count'>"
      ]
     },
     "execution_count": 12,
     "metadata": {},
     "output_type": "execute_result"
    },
    {
     "data": {
      "image/png": "[encoded data removed]",
      "text/plain": [
       "<Figure size 640x480 with 1 Axes>"
      ]
     },
     "metadata": {},
     "output_type": "display_data"
    }
   ],
   "source": [
    "sns.histplot(df_test['unique_word_count'])"
   ]
  },
  {
   "cell_type": "code",
   "execution_count": 13,
   "id": "28a504ec",
   "metadata": {},
   "outputs": [
    {
     "data": {
      "image/png": "[encoded data removed]",
      "text/plain": [
       "<Figure size 640x480 with 1 Axes>"
      ]
     },
     "metadata": {},
     "output_type": "display_data"
    }
   ],
   "source": [
    "target_counts = df_train['target'].value_counts()\n",
    "\n",
    "plt.figure()\n",
    "\n",
    "sns.barplot(target_counts.values)\n",
    "plt.ylabel('Number of Tweets')\n",
    "plt.xlabel('Category (1 = Disaster Present)')\n",
    "plt.show()"
   ]
  },
  {
   "cell_type": "code",
   "execution_count": 14,
   "id": "68338084",
   "metadata": {},
   "outputs": [
    {
     "name": "stdout",
     "output_type": "stream",
     "text": [
      "42.97% of the training set is labeled as a disaster.\n"
     ]
    }
   ],
   "source": [
    "pt = round(100*np.mean(df_train['target']),2)\n",
    "print(f\"{pt}% of the training set is labeled as a disaster.\")"
   ]
  },
  {
   "cell_type": "code",
   "execution_count": 15,
   "id": "358ad159",
   "metadata": {},
   "outputs": [
    {
     "data": {
      "text/plain": [
       "<Axes: >"
      ]
     },
     "execution_count": 15,
     "metadata": {},
     "output_type": "execute_result"
    },
    {
     "data": {
      "image/png": "[encoded data removed]",
      "text/plain": [
       "<Figure size 640x480 with 2 Axes>"
      ]
     },
     "metadata": {},
     "output_type": "display_data"
    }
   ],
   "source": [
    "corr = df_train.drop(['id'], axis = 1).corr(numeric_only=True)\n",
    "sns.heatmap(corr, annot = True)"
   ]
  },
  {
   "cell_type": "markdown",
   "id": "b97b6487",
   "metadata": {},
   "source": [
    "There only appears to be a mild correlation between word coutns and target: `0.053`."
   ]
  },
  {
   "cell_type": "markdown",
   "id": "664cf379",
   "metadata": {},
   "source": [
    "## Model Architecture <a name=\"paragraph2\"></a>\n",
    "\n",
    "1. Clean data\n",
    "2. Tag documents for Doc2Vec\n",
    "3. Build Doc2Vec Model & Vocab\n"
   ]
  },
  {
   "cell_type": "markdown",
   "id": "51b8c114",
   "metadata": {},
   "source": [
    "### Text Cleaning & Tagging\n",
    "We're going to normalize the text by switching to lowercase, removing links and punctuation, removing stopwords, and lemmatizing. We won't be stemming as tense is likely important to context for disaster tweet classification, present tense could imply on ongoing disaster.\n",
    "\n",
    "We used the following Kaggle notebook to help derive the Doc2Vec architecture, as well as the `gensim` documentation.\n",
    "\n",
    "https://www.kaggle.com/code/khotijahs1/using-lstm-for-nlp-text-classification\n",
    "\n",
    "https://radimrehurek.com/gensim/auto_examples/tutorials/run_doc2vec_lee.html#sphx-glr-auto-examples-tutorials-run-doc2vec-lee-py"
   ]
  },
  {
   "cell_type": "code",
   "execution_count": 16,
   "id": "255eda0a",
   "metadata": {},
   "outputs": [],
   "source": [
    "stopwords = nltk.corpus.stopwords.words('english')\n",
    "def clean(text):\n",
    "    st = \"\"\n",
    "    \n",
    "    # Remove Punctuation & links w regex, force lowercase\n",
    "    text = text.lower()\n",
    "    text = re.sub(r\"(@\\[A-Za-z0-9]+)|([^0-9A-Za-z \\t])|(\\w+:\\/\\/\\S+)|^rt|http.+?\", \"\", text)\n",
    "    text = st.join([char if char not in string.punctuation else ' ' for char in text]) \n",
    "\n",
    "    #Remove stopwords\n",
    "    text = \" \".join([word for word in text.split() if word not in stopwords])\n",
    "\n",
    "    #Tokenize & Lemmatize\n",
    "    tknz = nltk.tokenize.WhitespaceTokenizer()\n",
    "    lmtz = WordNetLemmatizer()\n",
    "    for word in tknz.tokenize(text): \n",
    "        st = st + lmtz.lemmatize(word) + \" \"\n",
    "    text = re.split('\\s+',st)\n",
    "    return text\n",
    "    "
   ]
  },
  {
   "cell_type": "code",
   "execution_count": 17,
   "id": "fd0aaef9",
   "metadata": {},
   "outputs": [],
   "source": [
    "#Tag documents for doc2vec\n",
    "X_train, X_val = train_test_split(df_train, test_size = 0.2, random_state = 0)\n",
    "\n",
    "X_train_tagged = X_train.apply(lambda x:TaggedDocument(words = clean(x['text']), tags = [x['target']]),axis = 1)\n",
    "X_val_tagged = X_val.apply(lambda x:TaggedDocument(words = clean(x['text']), tags = [x['target']]),axis = 1)"
   ]
  },
  {
   "cell_type": "code",
   "execution_count": 18,
   "id": "5b0316c4",
   "metadata": {},
   "outputs": [
    {
     "data": {
      "text/plain": [
       "array([TaggedDocument(words=['ted', 'cruz', 'fire', 'back', 'jeb', 'amp', 'bush', 'lose', 'republican', 'like', 'jeb', 'amp', 'mitt', 'video', ''], tags=[0]),\n",
       "       TaggedDocument(words=['first', 'year', 'forest', 'service', 'spent', 'half', 'annual', 'budget', 'fighting', 'fire', 'climatechange', ''], tags=[1]),\n",
       "       TaggedDocument(words=['lightseraphs', 'pissed', 'could', 'pikachu', 'electrocute', ''], tags=[0]),\n",
       "       ...,\n",
       "       TaggedDocument(words=['great', 'british', 'bake', 'offs', 'back', 'dorrets', 'chocolate', 'gateau', 'collapsed', 'jan', 'moir', ''], tags=[1]),\n",
       "       TaggedDocument(words=['black', 'eye', '9', 'space', 'battle', 'occurred', 'star', 'o784', 'involving', '2', 'fleet', 'totaling', '3934', 'ship', '7', 'destroyed', ''], tags=[0]),\n",
       "       TaggedDocument(words=['mikeparractor', 'absolutely', 'devastated', 'actor', 'miss', 'rossbarton', 'every', 'girl', 'love', 'bad', 'boy', ''], tags=[0])],\n",
       "      dtype=object)"
      ]
     },
     "execution_count": 18,
     "metadata": {},
     "output_type": "execute_result"
    }
   ],
   "source": [
    "X_train_tagged.values"
   ]
  },
  {
   "cell_type": "code",
   "execution_count": 19,
   "id": "02196292",
   "metadata": {},
   "outputs": [
    {
     "data": {
      "text/plain": [
       "(7613, 33)"
      ]
     },
     "execution_count": 19,
     "metadata": {},
     "output_type": "execute_result"
    }
   ],
   "source": [
    "#Passthrough Keras Tokenizer before model building\n",
    "tokenizer = Tokenizer()\n",
    "tokenizer.fit_on_texts(df_train['text'].values)\n",
    "X = tokenizer.texts_to_sequences(df_train['text'].values)\n",
    "X = pad_sequences(X)\n",
    "X.shape"
   ]
  },
  {
   "cell_type": "code",
   "execution_count": 20,
   "id": "75a66f47",
   "metadata": {},
   "outputs": [],
   "source": [
    "#Build vocab for Doc2Vec\n",
    "X_train_tagged.head()\n",
    "\n",
    "d2vm = Doc2Vec(vector_size = 25, min_count = 2, epochs = 30)\n",
    "d2vm.build_vocab(X_train_tagged.values)"
   ]
  },
  {
   "cell_type": "code",
   "execution_count": 21,
   "id": "e7ac9e29",
   "metadata": {},
   "outputs": [],
   "source": [
    "d2vm.train(X_train_tagged, total_examples = d2vm.corpus_count, epochs = d2vm.epochs)"
   ]
  },
  {
   "cell_type": "code",
   "execution_count": 22,
   "id": "39d5829c",
   "metadata": {},
   "outputs": [
    {
     "name": "stdout",
     "output_type": "stream",
     "text": [
      "Word 'fire' appeared 122 times in the training corpus.\n"
     ]
    }
   ],
   "source": [
    "print(f\"Word 'fire' appeared {d2vm.wv.get_vecattr('disaster', 'count')} times in the training corpus.\")"
   ]
  },
  {
   "cell_type": "code",
   "execution_count": 23,
   "id": "202dbd9c",
   "metadata": {},
   "outputs": [
    {
     "data": {
      "text/plain": [
       "[('detouring', 0.8935810923576355),\n",
       " ('acre', 0.8922364711761475),\n",
       " ('township', 0.8891415596008301),\n",
       " ('dr', 0.881637692451477),\n",
       " ('chp', 0.8790845274925232),\n",
       " ('office', 0.8786222338676453),\n",
       " ('ablaze', 0.8784908652305603),\n",
       " ('newyork', 0.8774296641349792),\n",
       " ('langley', 0.8727045059204102),\n",
       " ('rocky', 0.8717607855796814)]"
      ]
     },
     "execution_count": 23,
     "metadata": {},
     "output_type": "execute_result"
    }
   ],
   "source": [
    "#similarity for disaster tweets\n",
    "d2vm.wv.most_similar(positive = 1, topn = 10)"
   ]
  },
  {
   "cell_type": "code",
   "execution_count": 24,
   "id": "f8ce597c",
   "metadata": {},
   "outputs": [
    {
     "data": {
      "text/plain": [
       "[('usa', 0.872025191783905),\n",
       " ('100', 0.8694365620613098),\n",
       " ('bumper', 0.8648096323013306),\n",
       " ('l', 0.8622252941131592),\n",
       " ('title', 0.8595365881919861),\n",
       " ('google', 0.8556082248687744),\n",
       " ('imported', 0.8551681041717529),\n",
       " ('cap', 0.8540856242179871),\n",
       " ('frank', 0.8539382219314575),\n",
       " ('check', 0.8532490134239197)]"
      ]
     },
     "execution_count": 24,
     "metadata": {},
     "output_type": "execute_result"
    }
   ],
   "source": [
    "#Similarity for non-disaster tweets\n",
    "d2vm.wv.most_similar(positive = 0, topn = 10)"
   ]
  },
  {
   "cell_type": "code",
   "execution_count": 25,
   "id": "98c0bcf9",
   "metadata": {},
   "outputs": [],
   "source": [
    "#embed vectors\n",
    "\n",
    "embedding_matrix = np.random.random((len(tokenizer.word_index)+1, d2vm.vector_size))\n",
    "\n",
    "p = 0\n",
    "for word, i in tokenizer.word_index.items():\n",
    "    try: embedding_matrix[i] = d2vm.wv[word]\n",
    "    except: p+=1\n",
    "\n"
   ]
  },
  {
   "cell_type": "code",
   "execution_count": 26,
   "id": "9724eff4",
   "metadata": {},
   "outputs": [
    {
     "data": {
      "text/plain": [
       "array([   0,    0,    0,    0,    0,    0,    0,    0,    0,    0,    0,\n",
       "          0,    0,    0,    0,    0,    0,    0,    0,    0,    0,    0,\n",
       "          0,    0,    0,    0,  189,   45,  229,  799, 6954, 6955, 1404])"
      ]
     },
     "execution_count": 26,
     "metadata": {},
     "output_type": "execute_result"
    }
   ],
   "source": [
    "X[1]"
   ]
  },
  {
   "cell_type": "markdown",
   "id": "90409ad6",
   "metadata": {},
   "source": [
    "### Building the LSTM Model\n",
    "\n",
    "Since we've created our trained data, we will use that as an embedding layer. We've used a similar architecture from the keras IMDB documentation (minus the bidirectionality):\n",
    "\n",
    "https://keras.io/examples/nlp/bidirectional_lstm_imdb/"
   ]
  },
  {
   "cell_type": "code",
   "execution_count": 27,
   "id": "2a5f0727",
   "metadata": {},
   "outputs": [
    {
     "name": "stdout",
     "output_type": "stream",
     "text": [
      "Model: \"sequential\"\n",
      "_________________________________________________________________\n",
      " Layer (type)                Output Shape              Param #   \n",
      "=================================================================\n",
      " embedding (Embedding)       (None, None, 25)          567525    \n",
      "                                                                 \n",
      " lstm (LSTM)                 (None, 64)                23040     \n",
      "                                                                 \n",
      " dense (Dense)               (None, 1)                 65        \n",
      "                                                                 \n",
      "=================================================================\n",
      "Total params: 590,630\n",
      "Trainable params: 590,630\n",
      "Non-trainable params: 0\n",
      "_________________________________________________________________\n"
     ]
    }
   ],
   "source": [
    "model = keras.models.Sequential()\n",
    "\n",
    "model.add(layers.Embedding(len(tokenizer.word_index)+1,\n",
    "                     d2vm.vector_size, \n",
    "                     weights = [embedding_matrix],\n",
    "                     trainable = True))\n",
    "\n",
    "model.add(layers.LSTM(64, return_sequences=False))\n",
    "model.add(layers.Dense(1, activation = \"sigmoid\")) #binary classification\n",
    "model.compile(optimizer=\"adam\", loss=\"binary_crossentropy\", metrics=[\"accuracy\"])\n",
    "model.summary()\n"
   ]
  },
  {
   "cell_type": "code",
   "execution_count": 28,
   "id": "423bd7b1",
   "metadata": {},
   "outputs": [],
   "source": [
    "y = df_train['target'].values\n",
    "\n",
    "X_trn, X_val, y_trn, y_val = train_test_split(X,y, test_size = 0.1, random_state = 0)\n"
   ]
  },
  {
   "cell_type": "code",
   "execution_count": 29,
   "id": "849e1bf1",
   "metadata": {},
   "outputs": [],
   "source": [
    "reducel = keras.callbacks.ReduceLROnPlateau(monitor='val_loss', patience=1, verbose=1, factor=0.1) #learning rate reduction\n",
    "early_stopping_cb = keras.callbacks.EarlyStopping( #implement early stopping\n",
    "    patience=10, verbose = 1,\n",
    "    restore_best_weights=True\n",
    ")"
   ]
  },
  {
   "cell_type": "code",
   "execution_count": 30,
   "id": "ae5658b0",
   "metadata": {},
   "outputs": [
    {
     "name": "stdout",
     "output_type": "stream",
     "text": [
      "Epoch 1/50\n",
      "215/215 [==============================] - 4s 7ms/step - loss: 0.5603 - accuracy: 0.7133 - val_loss: 0.5009 - val_accuracy: 0.7546 - lr: 0.0010\n",
      "Epoch 2/50\n",
      "215/215 [==============================] - 1s 6ms/step - loss: 0.4788 - accuracy: 0.7773 - val_loss: 0.4863 - val_accuracy: 0.7703 - lr: 0.0010\n",
      "Epoch 3/50\n",
      "208/215 [============================>.] - ETA: 0s - loss: 0.4150 - accuracy: 0.8170\n",
      "Epoch 3: ReduceLROnPlateau reducing learning rate to 0.00010000000474974513.\n",
      "215/215 [==============================] - 1s 6ms/step - loss: 0.4175 - accuracy: 0.8158 - val_loss: 0.4886 - val_accuracy: 0.7769 - lr: 0.0010\n",
      "Epoch 4/50\n",
      "208/215 [============================>.] - ETA: 0s - loss: 0.3355 - accuracy: 0.8607\n",
      "Epoch 4: ReduceLROnPlateau reducing learning rate to 1.0000000474974514e-05.\n",
      "215/215 [==============================] - 1s 6ms/step - loss: 0.3349 - accuracy: 0.8602 - val_loss: 0.4870 - val_accuracy: 0.7874 - lr: 1.0000e-04\n",
      "Epoch 5/50\n",
      "208/215 [============================>.] - ETA: 0s - loss: 0.3188 - accuracy: 0.8673\n",
      "Epoch 5: ReduceLROnPlateau reducing learning rate to 1.0000000656873453e-06.\n",
      "215/215 [==============================] - 1s 6ms/step - loss: 0.3187 - accuracy: 0.8676 - val_loss: 0.4882 - val_accuracy: 0.7966 - lr: 1.0000e-05\n",
      "Epoch 6/50\n",
      "212/215 [============================>.] - ETA: 0s - loss: 0.3181 - accuracy: 0.8673\n",
      "Epoch 6: ReduceLROnPlateau reducing learning rate to 1.0000001111620805e-07.\n",
      "215/215 [==============================] - 1s 6ms/step - loss: 0.3172 - accuracy: 0.8678 - val_loss: 0.4884 - val_accuracy: 0.7940 - lr: 1.0000e-06\n",
      "Epoch 7/50\n",
      "215/215 [==============================] - ETA: 0s - loss: 0.3171 - accuracy: 0.8679\n",
      "Epoch 7: ReduceLROnPlateau reducing learning rate to 1.000000082740371e-08.\n",
      "215/215 [==============================] - 1s 6ms/step - loss: 0.3171 - accuracy: 0.8679 - val_loss: 0.4884 - val_accuracy: 0.7940 - lr: 1.0000e-07\n",
      "Epoch 8/50\n",
      "214/215 [============================>.] - ETA: 0s - loss: 0.3170 - accuracy: 0.8680\n",
      "Epoch 8: ReduceLROnPlateau reducing learning rate to 1.000000082740371e-09.\n",
      "215/215 [==============================] - 1s 6ms/step - loss: 0.3171 - accuracy: 0.8679 - val_loss: 0.4884 - val_accuracy: 0.7940 - lr: 1.0000e-08\n",
      "Epoch 9/50\n",
      "210/215 [============================>.] - ETA: 0s - loss: 0.3178 - accuracy: 0.8676\n",
      "Epoch 9: ReduceLROnPlateau reducing learning rate to 1.000000082740371e-10.\n",
      "215/215 [==============================] - 1s 6ms/step - loss: 0.3171 - accuracy: 0.8679 - val_loss: 0.4884 - val_accuracy: 0.7940 - lr: 1.0000e-09\n",
      "Epoch 10/50\n",
      "208/215 [============================>.] - ETA: 0s - loss: 0.3172 - accuracy: 0.8676\n",
      "Epoch 10: ReduceLROnPlateau reducing learning rate to 1.000000082740371e-11.\n",
      "215/215 [==============================] - 1s 6ms/step - loss: 0.3171 - accuracy: 0.8679 - val_loss: 0.4884 - val_accuracy: 0.7940 - lr: 1.0000e-10\n",
      "Epoch 11/50\n",
      "209/215 [============================>.] - ETA: 0s - loss: 0.3154 - accuracy: 0.8687\n",
      "Epoch 11: ReduceLROnPlateau reducing learning rate to 1.000000082740371e-12.\n",
      "215/215 [==============================] - 1s 6ms/step - loss: 0.3171 - accuracy: 0.8679 - val_loss: 0.4884 - val_accuracy: 0.7940 - lr: 1.0000e-11\n",
      "Epoch 12/50\n",
      "215/215 [==============================] - ETA: 0s - loss: 0.3171 - accuracy: 0.8679\n",
      "Epoch 12: ReduceLROnPlateau reducing learning rate to 1.0000001044244145e-13.\n",
      "Restoring model weights from the end of the best epoch: 2.\n",
      "215/215 [==============================] - 1s 6ms/step - loss: 0.3171 - accuracy: 0.8679 - val_loss: 0.4884 - val_accuracy: 0.7940 - lr: 1.0000e-12\n",
      "Epoch 12: early stopping\n"
     ]
    }
   ],
   "source": [
    "history = model.fit(X_trn, y_trn, validation_data=(X_val, y_val), epochs=50, callbacks = [reducel,early_stopping_cb])"
   ]
  },
  {
   "cell_type": "markdown",
   "id": "847b929e",
   "metadata": {},
   "source": [
    "# 4. Results and Analysis\n",
    "<a name=\"paragraph3\"></a>\n",
    "\n",
    "We seem to likely have an issue with overfitting given the large discrepancy between our training and validatoin set - this may be a result of our small dataset. LSTMs tend to work better with large data sets to really take advantage of long-term memory. We tried incorporating early stopping and reducing the learning rate to resolve some overfitting issues. We also could have balanced the dataset prior to training our model, as models tend to perform better on balanced data, but this could have caused some loss of performance given how small our dataset is already. Many other models used pre-trained datasets (BERT) to achieve higher performance, which could have helped as well. Our corpus was simply the training set, so we didn't have as much training data as other models."
   ]
  },
  {
   "cell_type": "code",
   "execution_count": 31,
   "id": "6ea5960a",
   "metadata": {},
   "outputs": [
    {
     "data": {
      "text/plain": [
       "Text(0.5, 0, 'epochs')"
      ]
     },
     "execution_count": 31,
     "metadata": {},
     "output_type": "execute_result"
    },
    {
     "data": {
      "image/png": "[encoded data removed]",
      "text/plain": [
       "<Figure size 640x480 with 1 Axes>"
      ]
     },
     "metadata": {},
     "output_type": "display_data"
    }
   ],
   "source": [
    "plt.plot(history.history['accuracy'])\n",
    "plt.plot(history.history['val_accuracy'])\n",
    "plt.legend(['train', 'val'])\n",
    "plt.ylabel('acc')\n",
    "plt.xlabel('epochs')"
   ]
  },
  {
   "cell_type": "code",
   "execution_count": 32,
   "id": "8bd4099e",
   "metadata": {},
   "outputs": [
    {
     "data": {
      "text/plain": [
       "Text(0.5, 0, 'epochs')"
      ]
     },
     "execution_count": 32,
     "metadata": {},
     "output_type": "execute_result"
    },
    {
     "data": {
      "image/png": "[encoded data removed]",
      "text/plain": [
       "<Figure size 640x480 with 1 Axes>"
      ]
     },
     "metadata": {},
     "output_type": "display_data"
    }
   ],
   "source": [
    "plt.plot(history.history['loss'])\n",
    "plt.plot(history.history['val_loss'])\n",
    "plt.legend(['train', 'val'])\n",
    "plt.ylabel('loss')\n",
    "plt.xlabel('epochs')"
   ]
  },
  {
   "cell_type": "markdown",
   "id": "c07d4e97",
   "metadata": {},
   "source": [
    "### Test Submission\n",
    "\n",
    "We need to preprocess the test set in the same way we did the training set before passing it to our model."
   ]
  },
  {
   "cell_type": "code",
   "execution_count": 52,
   "id": "987c50fb",
   "metadata": {},
   "outputs": [
    {
     "data": {
      "text/plain": [
       "(3263, 30)"
      ]
     },
     "execution_count": 52,
     "metadata": {},
     "output_type": "execute_result"
    }
   ],
   "source": [
    "test = tokenizer.texts_to_sequences(df_test['text'].values)\n",
    "test = pad_sequences(test)"
   ]
  },
  {
   "cell_type": "code",
   "execution_count": 40,
   "id": "99af2797",
   "metadata": {},
   "outputs": [
    {
     "data": {
      "text/plain": [
       "(3263, 25)"
      ]
     },
     "execution_count": 40,
     "metadata": {},
     "output_type": "execute_result"
    }
   ],
   "source": [
    "test.shape #check test size"
   ]
  },
  {
   "cell_type": "code",
   "execution_count": 53,
   "id": "40b07a8e",
   "metadata": {},
   "outputs": [
    {
     "name": "stdout",
     "output_type": "stream",
     "text": [
      "102/102 [==============================] - 1s 3ms/step\n"
     ]
    }
   ],
   "source": [
    "y_test = model.predict(test)"
   ]
  },
  {
   "cell_type": "code",
   "execution_count": 54,
   "id": "401349fa",
   "metadata": {},
   "outputs": [
    {
     "data": {
      "text/plain": [
       "array([[0.28250492],\n",
       "       [0.36809137],\n",
       "       [0.8242046 ],\n",
       "       ...,\n",
       "       [0.88081914],\n",
       "       [0.79957646],\n",
       "       [0.3859091 ]], dtype=float32)"
      ]
     },
     "execution_count": 54,
     "metadata": {},
     "output_type": "execute_result"
    }
   ],
   "source": [
    "y_test"
   ]
  },
  {
   "cell_type": "markdown",
   "id": "9b93fca3",
   "metadata": {},
   "source": []
  },
  {
   "cell_type": "code",
   "execution_count": 62,
   "id": "9011a3a6",
   "metadata": {},
   "outputs": [],
   "source": [
    "sample = pd.read_csv(\"sample_submission.csv\")\n",
    "sample['target'] = np.round(y_test)"
   ]
  },
  {
   "cell_type": "code",
   "execution_count": 68,
   "id": "ea699a4a",
   "metadata": {},
   "outputs": [
    {
     "name": "stdout",
     "output_type": "stream",
     "text": [
      "<class 'pandas.core.frame.DataFrame'>\n",
      "RangeIndex: 3263 entries, 0 to 3262\n",
      "Data columns (total 2 columns):\n",
      " #   Column  Non-Null Count  Dtype\n",
      "---  ------  --------------  -----\n",
      " 0   id      3263 non-null   int32\n",
      " 1   target  3263 non-null   int32\n",
      "dtypes: int32(2)\n",
      "memory usage: 25.6 KB\n"
     ]
    }
   ],
   "source": [
    "sample = sample.astype('int')\n",
    "sample.info()"
   ]
  },
  {
   "cell_type": "code",
   "execution_count": 69,
   "id": "d791779a",
   "metadata": {},
   "outputs": [],
   "source": [
    "sample.to_csv(\"submission.csv\", index = False)"
   ]
  },
  {
   "attachments": {
    "image.png": {
     "image/png": "[encoded data removed]"
    }
   },
   "cell_type": "markdown",
   "id": "01645149",
   "metadata": {},
   "source": [
    "![image.png](attachment:image.png)"
   ]
  },
  {
   "cell_type": "markdown",
   "id": "f82e0bdd",
   "metadata": {},
   "source": []
  }
 ],
 "metadata": {
  "kernelspec": {
   "display_name": "Python 3 (ipykernel)",
   "language": "python",
   "name": "python3"
  },
  "language_info": {
   "codemirror_mode": {
    "name": "ipython",
    "version": 3
   },
   "file_extension": ".py",
   "mimetype": "text/x-python",
   "name": "python",
   "nbconvert_exporter": "python",
   "pygments_lexer": "ipython3",
   "version": "3.9.19"
  }
 },
 "nbformat": 4,
 "nbformat_minor": 5
}
